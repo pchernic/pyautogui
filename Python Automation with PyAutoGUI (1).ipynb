{
 "cells": [
  {
   "cell_type": "markdown",
   "id": "2e3890f6-c106-4e96-8c4d-26eeacf54ad0",
   "metadata": {},
   "source": [
    "# PyAutoGui"
   ]
  },
  {
   "cell_type": "code",
   "execution_count": 13,
   "id": "690b59b9-b9fc-47da-b361-073cdf9d691c",
   "metadata": {},
   "outputs": [
    {
     "name": "stdout",
     "output_type": "stream",
     "text": [
      "Requirement already satisfied: MouseInfo in c:\\users\\home\\anaconda3\\lib\\site-packages (0.1.3)Note: you may need to restart the kernel to use updated packages.\n",
      "\n",
      "Requirement already satisfied: pyperclip in c:\\users\\home\\anaconda3\\lib\\site-packages (from MouseInfo) (1.9.0)\n"
     ]
    }
   ],
   "source": [
    "#pip install MouseInfo"
   ]
  },
  {
   "cell_type": "code",
   "execution_count": 176,
   "id": "63191f85-264c-4661-96e0-0402fc6a0294",
   "metadata": {},
   "outputs": [
    {
     "name": "stdout",
     "output_type": "stream",
     "text": [
      "Collecting keyboard\n",
      "  Obtaining dependency information for keyboard from https://files.pythonhosted.org/packages/55/88/287159903c5b3fc6d47b651c7ab65a54dcf9c9916de546188a7f62870d6d/keyboard-0.13.5-py3-none-any.whl.metadata\n",
      "  Downloading keyboard-0.13.5-py3-none-any.whl.metadata (4.0 kB)\n",
      "Downloading keyboard-0.13.5-py3-none-any.whl (58 kB)\n",
      "   ---------------------------------------- 0.0/58.1 kB ? eta -:--:--\n",
      "   -------------- ------------------------- 20.5/58.1 kB 330.3 kB/s eta 0:00:01\n",
      "   ----------------------------------- ---- 51.2/58.1 kB 525.1 kB/s eta 0:00:01\n",
      "   ---------------------------------------- 58.1/58.1 kB 341.8 kB/s eta 0:00:00\n",
      "Installing collected packages: keyboard\n",
      "Successfully installed keyboard-0.13.5\n",
      "Note: you may need to restart the kernel to use updated packages.\n"
     ]
    }
   ],
   "source": [
    "#pip install keyboard\n"
   ]
  },
  {
   "cell_type": "code",
   "execution_count": null,
   "id": "2e1a761d-499e-4f6a-9749-efe664d41bf7",
   "metadata": {},
   "outputs": [],
   "source": [
    "#pip install pyautogui\n"
   ]
  },
  {
   "cell_type": "code",
   "execution_count": 201,
   "id": "a98caa0e-9391-4658-8ac6-3b352631b3a0",
   "metadata": {},
   "outputs": [],
   "source": [
    "\n",
    "#helps us get precise coordinates and color info\n",
    "mouseinfo.mouseInfo()"
   ]
  },
  {
   "cell_type": "code",
   "execution_count": 5,
   "id": "2c000b33-9fd0-44a3-8859-78eae3eac5d5",
   "metadata": {},
   "outputs": [],
   "source": [
    "import pyautogui\n",
    "import pandas as pd\n",
    "import time\n",
    "import mouseinfo\n",
    "import keyboard"
   ]
  },
  {
   "cell_type": "markdown",
   "id": "dd6ec187-44eb-49c4-84d2-fb2c43dd44d8",
   "metadata": {},
   "source": [
    "## Basic Commands recap"
   ]
  },
  {
   "cell_type": "markdown",
   "id": "50f140d0-762a-4731-b92b-58371d736685",
   "metadata": {},
   "source": [
    "###  Screen size"
   ]
  },
  {
   "cell_type": "code",
   "execution_count": 164,
   "id": "05ac617f-6351-483c-970a-9ccd5822aaf5",
   "metadata": {},
   "outputs": [
    {
     "name": "stdout",
     "output_type": "stream",
     "text": [
      "Size(width=2560, height=1080)\n"
     ]
    }
   ],
   "source": [
    "print(pyautogui.size()) #prints you screen resolution"
   ]
  },
  {
   "cell_type": "markdown",
   "id": "6f780dc7-2572-4099-9509-40ba765db2d4",
   "metadata": {},
   "source": [
    "###  Mouse Functions\n",
    "\n",
    "- This function is key for all the others. Getting accurate mouse position is essential to "
   ]
  },
  {
   "cell_type": "markdown",
   "id": "29755229-573a-42f7-b87e-a916e574f846",
   "metadata": {},
   "source": [
    "#### Position"
   ]
  },
  {
   "cell_type": "code",
   "execution_count": 28,
   "id": "00480c0c-d592-4587-87eb-5d246c45152e",
   "metadata": {},
   "outputs": [
    {
     "name": "stdout",
     "output_type": "stream",
     "text": [
      "Point(x=137, y=1055)\n"
     ]
    }
   ],
   "source": [
    "print(pyautogui.position()) #current mouse position "
   ]
  },
  {
   "cell_type": "code",
   "execution_count": 166,
   "id": "d95fd4a5-1a25-43e4-b310-606bbe1c66d3",
   "metadata": {},
   "outputs": [],
   "source": [
    "time.sleep(3) #gives a time for the system, avoids going too fast and cause troubles. "
   ]
  },
  {
   "cell_type": "markdown",
   "id": "e1bb3b02-ebc1-4271-a0f0-f0725d9c6f5c",
   "metadata": {},
   "source": [
    "#### Move and Click\n"
   ]
  },
  {
   "cell_type": "code",
   "execution_count": 209,
   "id": "5bc7a34d-cd23-43b4-9ee7-65d4f7e41919",
   "metadata": {},
   "outputs": [],
   "source": [
    "pyautogui.moveTo(10,1062, 1) # moves to x,y position in n seconds\n",
    "pyautogui.click(1, button=\"left\") # clicks once"
   ]
  },
  {
   "cell_type": "code",
   "execution_count": 7,
   "id": "6dc11120-4354-474f-979c-299511f7a3b1",
   "metadata": {},
   "outputs": [
    {
     "data": {
      "text/plain": [
       "'\\npyautogui.tripleClick()\\npyautogui.doubleClick()\\npyautogui.leftClick()\\npyautogui.rightClick()\\n'"
      ]
     },
     "execution_count": 7,
     "metadata": {},
     "output_type": "execute_result"
    }
   ],
   "source": [
    "# other examples of .click\n",
    "\n",
    "time.sleep(1)\n",
    "pyautogui.rightClick()\n",
    "\"\"\"\n",
    "pyautogui.tripleClick()\n",
    "pyautogui.doubleClick()\n",
    "pyautogui.leftClick()\n",
    "pyautogui.rightClick()\n",
    "\"\"\"\n"
   ]
  },
  {
   "cell_type": "markdown",
   "id": "3de817dc-9612-46e3-9103-cc110d1f2f20",
   "metadata": {},
   "source": [
    "We can also define position as a variable, it may be useful."
   ]
  },
  {
   "cell_type": "code",
   "execution_count": 225,
   "id": "012d160e-83e4-4954-b9e3-d7844df81c1d",
   "metadata": {},
   "outputs": [],
   "source": [
    "position = pyautogui.position()"
   ]
  },
  {
   "cell_type": "code",
   "execution_count": 231,
   "id": "90421ae6-5791-42f1-94c1-cda87a42be29",
   "metadata": {},
   "outputs": [],
   "source": [
    "pyautogui.moveTo(position[0], position[1],1)\n",
    "time.sleep(1)\n",
    "pyautogui.leftClick() # clicks once"
   ]
  },
  {
   "cell_type": "markdown",
   "id": "2eb4eb0b-d57e-43b9-9a66-d6894f9392be",
   "metadata": {},
   "source": [
    "#### Page Up and Down"
   ]
  },
  {
   "cell_type": "code",
   "execution_count": 254,
   "id": "b0fa6e31-8410-4b67-bf55-eb65ca222823",
   "metadata": {},
   "outputs": [],
   "source": [
    "\n",
    "time.sleep(1)\n",
    "# Scroll up\n",
    "pyautogui.hotkey('pageup')\n",
    "time.sleep(1)\n",
    "# Scroll down\n",
    "pyautogui.hotkey('pagedown')\n"
   ]
  },
  {
   "cell_type": "code",
   "execution_count": 260,
   "id": "05762f24-24d8-487b-9fde-613cfb3aa197",
   "metadata": {},
   "outputs": [],
   "source": [
    "time.sleep(1)\n",
    "pyautogui.scroll(-500) #scrolls down\n",
    "time.sleep(1)\n",
    "pyautogui.scroll(500) #scrolls up"
   ]
  },
  {
   "cell_type": "code",
   "execution_count": 262,
   "id": "3bf7782d-5282-4f88-bf96-d7881f529b15",
   "metadata": {},
   "outputs": [
    {
     "data": {
      "text/plain": [
       "Point(x=24, y=1063)"
      ]
     },
     "execution_count": 262,
     "metadata": {},
     "output_type": "execute_result"
    }
   ],
   "source": [
    "position = pyautogui.position()\n",
    "position"
   ]
  },
  {
   "cell_type": "code",
   "execution_count": 270,
   "id": "7b2ffe8e-59e5-4bd8-82bf-fa4f5d4df285",
   "metadata": {},
   "outputs": [],
   "source": [
    "#pyautogui.mouseDown(300,400,button='left')\n",
    "pyautogui.mouseUp()\n",
    "#pyautogui.moveUp()\n",
    "#pyautogui.moveTo(1000,400)"
   ]
  },
  {
   "cell_type": "code",
   "execution_count": 274,
   "id": "a57df033-8b6c-42ef-b136-26f4d251db1c",
   "metadata": {},
   "outputs": [],
   "source": [
    "keyboard_keys = pyautogui.KEYBOARD_KEYS"
   ]
  },
  {
   "cell_type": "code",
   "execution_count": 277,
   "id": "e9a19f44-5b94-49e5-a4ca-e8fd30d81792",
   "metadata": {},
   "outputs": [
    {
     "data": {
      "text/plain": [
       "194"
      ]
     },
     "execution_count": 277,
     "metadata": {},
     "output_type": "execute_result"
    }
   ],
   "source": [
    "# Convert the list to a DataFrame\n",
    "keyboard_keys_df = pd.DataFrame(keyboard_keys, columns=['Key'])\n",
    "keyboard_keys_df.size"
   ]
  },
  {
   "cell_type": "code",
   "execution_count": 279,
   "id": "044caec5-35df-4032-9f41-ee19cd4c0b1d",
   "metadata": {},
   "outputs": [
    {
     "data": {
      "text/html": [
       "<div>\n",
       "<style scoped>\n",
       "    .dataframe tbody tr th:only-of-type {\n",
       "        vertical-align: middle;\n",
       "    }\n",
       "\n",
       "    .dataframe tbody tr th {\n",
       "        vertical-align: top;\n",
       "    }\n",
       "\n",
       "    .dataframe thead th {\n",
       "        text-align: right;\n",
       "    }\n",
       "</style>\n",
       "<table border=\"1\" class=\"dataframe\">\n",
       "  <thead>\n",
       "    <tr style=\"text-align: right;\">\n",
       "      <th></th>\n",
       "      <th>Key</th>\n",
       "    </tr>\n",
       "  </thead>\n",
       "  <tbody>\n",
       "    <tr>\n",
       "      <th>0</th>\n",
       "      <td>\\t</td>\n",
       "    </tr>\n",
       "    <tr>\n",
       "      <th>1</th>\n",
       "      <td>\\n</td>\n",
       "    </tr>\n",
       "    <tr>\n",
       "      <th>2</th>\n",
       "      <td>\\r</td>\n",
       "    </tr>\n",
       "    <tr>\n",
       "      <th>3</th>\n",
       "      <td></td>\n",
       "    </tr>\n",
       "    <tr>\n",
       "      <th>4</th>\n",
       "      <td>!</td>\n",
       "    </tr>\n",
       "    <tr>\n",
       "      <th>...</th>\n",
       "      <td>...</td>\n",
       "    </tr>\n",
       "    <tr>\n",
       "      <th>189</th>\n",
       "      <td>yen</td>\n",
       "    </tr>\n",
       "    <tr>\n",
       "      <th>190</th>\n",
       "      <td>command</td>\n",
       "    </tr>\n",
       "    <tr>\n",
       "      <th>191</th>\n",
       "      <td>option</td>\n",
       "    </tr>\n",
       "    <tr>\n",
       "      <th>192</th>\n",
       "      <td>optionleft</td>\n",
       "    </tr>\n",
       "    <tr>\n",
       "      <th>193</th>\n",
       "      <td>optionright</td>\n",
       "    </tr>\n",
       "  </tbody>\n",
       "</table>\n",
       "<p>194 rows × 1 columns</p>\n",
       "</div>"
      ],
      "text/plain": [
       "             Key\n",
       "0             \\t\n",
       "1             \\n\n",
       "2             \\r\n",
       "3               \n",
       "4              !\n",
       "..           ...\n",
       "189          yen\n",
       "190      command\n",
       "191       option\n",
       "192   optionleft\n",
       "193  optionright\n",
       "\n",
       "[194 rows x 1 columns]"
      ]
     },
     "execution_count": 279,
     "metadata": {},
     "output_type": "execute_result"
    }
   ],
   "source": [
    "keyboard_keys_df"
   ]
  },
  {
   "cell_type": "markdown",
   "id": "d9af5c15-e70d-4fb1-84b5-d830f3533401",
   "metadata": {},
   "source": [
    "## Drawing Example"
   ]
  },
  {
   "cell_type": "markdown",
   "id": "506d3b3a-2033-46e3-9f2e-d2306b450985",
   "metadata": {},
   "source": [
    "## Drawing Spiral"
   ]
  },
  {
   "cell_type": "markdown",
   "id": "b6ba48c5-0d37-4f82-aa12-70a85e09e8be",
   "metadata": {},
   "source": [
    "Just a way to get more familiar with the logic. "
   ]
  },
  {
   "cell_type": "code",
   "execution_count": 311,
   "id": "52734cf1-b334-45af-934c-1c71f565b0ff",
   "metadata": {},
   "outputs": [
    {
     "name": "stdout",
     "output_type": "stream",
     "text": [
      "Point(x=1760, y=236)\n"
     ]
    }
   ],
   "source": [
    "position = pyautogui.position()\n",
    "print(position)"
   ]
  },
  {
   "cell_type": "code",
   "execution_count": 331,
   "id": "fdaa6253-9b5d-40d9-848b-a02c02a8cd3f",
   "metadata": {},
   "outputs": [],
   "source": [
    "#opens paint \n",
    "time.sleep(1)\n",
    "pyautogui.press('win')\n",
    "time.sleep(1)\n",
    "pyautogui.write('paint')\n",
    "time.sleep(3)\n",
    "pyautogui.press('enter')"
   ]
  },
  {
   "cell_type": "code",
   "execution_count": 333,
   "id": "22b54b97-5229-4fa6-aa50-7e48598a30f3",
   "metadata": {},
   "outputs": [],
   "source": [
    "pyautogui.moveTo(position[0],position[1])\n",
    "\n",
    "distance = 500\n",
    "while distance > 0:\n",
    "    pyautogui.dragRel(distance, 0, 1, button='left')  # moving across\n",
    "    distance = distance - 20\n",
    "    pyautogui.dragRel(0, distance, 1, button='left')  # moving opposite\n",
    "    pyautogui.dragRel(-distance, 0, 1, button='left')\n",
    "    distance = distance - 20\n",
    "    pyautogui.dragRel(0, -distance, 1, button='left')\n",
    "time.sleep(2)"
   ]
  },
  {
   "cell_type": "code",
   "execution_count": 329,
   "id": "c193e7ca-c332-4c02-b12d-364bb700db39",
   "metadata": {},
   "outputs": [
    {
     "ename": "FailSafeException",
     "evalue": "PyAutoGUI fail-safe triggered from mouse moving to a corner of the screen. To disable this fail-safe, set pyautogui.FAILSAFE to False. DISABLING FAIL-SAFE IS NOT RECOMMENDED.",
     "output_type": "error",
     "traceback": [
      "\u001b[1;31m---------------------------------------------------------------------------\u001b[0m",
      "\u001b[1;31mFailSafeException\u001b[0m                         Traceback (most recent call last)",
      "Cell \u001b[1;32mIn[329], line 18\u001b[0m\n\u001b[0;32m     16\u001b[0m distance \u001b[38;5;241m=\u001b[39m distance \u001b[38;5;241m-\u001b[39m \u001b[38;5;241m20\u001b[39m\n\u001b[0;32m     17\u001b[0m pyautogui\u001b[38;5;241m.\u001b[39mdragRel(\u001b[38;5;241m0\u001b[39m, distance, \u001b[38;5;241m1\u001b[39m, button\u001b[38;5;241m=\u001b[39m\u001b[38;5;124m'\u001b[39m\u001b[38;5;124mleft\u001b[39m\u001b[38;5;124m'\u001b[39m)  \u001b[38;5;66;03m# moving opposite\u001b[39;00m\n\u001b[1;32m---> 18\u001b[0m pyautogui\u001b[38;5;241m.\u001b[39mdragRel(\u001b[38;5;241m-\u001b[39mdistance, \u001b[38;5;241m0\u001b[39m, \u001b[38;5;241m1\u001b[39m, button\u001b[38;5;241m=\u001b[39m\u001b[38;5;124m'\u001b[39m\u001b[38;5;124mleft\u001b[39m\u001b[38;5;124m'\u001b[39m)\n\u001b[0;32m     19\u001b[0m distance \u001b[38;5;241m=\u001b[39m distance \u001b[38;5;241m-\u001b[39m \u001b[38;5;241m20\u001b[39m\n\u001b[0;32m     20\u001b[0m pyautogui\u001b[38;5;241m.\u001b[39mdragRel(\u001b[38;5;241m0\u001b[39m, \u001b[38;5;241m-\u001b[39mdistance, \u001b[38;5;241m1\u001b[39m, button\u001b[38;5;241m=\u001b[39m\u001b[38;5;124m'\u001b[39m\u001b[38;5;124mleft\u001b[39m\u001b[38;5;124m'\u001b[39m)\n",
      "File \u001b[1;32m~\\anaconda3\\Lib\\site-packages\\pyautogui\\__init__.py:594\u001b[0m, in \u001b[0;36m_genericPyAutoGUIChecks.<locals>.wrapper\u001b[1;34m(*args, **kwargs)\u001b[0m\n\u001b[0;32m    591\u001b[0m \u001b[38;5;129m@functools\u001b[39m\u001b[38;5;241m.\u001b[39mwraps(wrappedFunction)\n\u001b[0;32m    592\u001b[0m \u001b[38;5;28;01mdef\u001b[39;00m \u001b[38;5;21mwrapper\u001b[39m(\u001b[38;5;241m*\u001b[39margs, \u001b[38;5;241m*\u001b[39m\u001b[38;5;241m*\u001b[39mkwargs):\n\u001b[0;32m    593\u001b[0m     failSafeCheck()\n\u001b[1;32m--> 594\u001b[0m     returnVal \u001b[38;5;241m=\u001b[39m wrappedFunction(\u001b[38;5;241m*\u001b[39margs, \u001b[38;5;241m*\u001b[39m\u001b[38;5;241m*\u001b[39mkwargs)\n\u001b[0;32m    595\u001b[0m     _handlePause(kwargs\u001b[38;5;241m.\u001b[39mget(\u001b[38;5;124m\"\u001b[39m\u001b[38;5;124m_pause\u001b[39m\u001b[38;5;124m\"\u001b[39m, \u001b[38;5;28;01mTrue\u001b[39;00m))\n\u001b[0;32m    596\u001b[0m     \u001b[38;5;28;01mreturn\u001b[39;00m returnVal\n",
      "File \u001b[1;32m~\\anaconda3\\Lib\\site-packages\\pyautogui\\__init__.py:1409\u001b[0m, in \u001b[0;36mdragRel\u001b[1;34m(xOffset, yOffset, duration, tween, button, logScreenshot, _pause, mouseDownUp)\u001b[0m\n\u001b[0;32m   1407\u001b[0m \u001b[38;5;28;01mif\u001b[39;00m mouseDownUp:\n\u001b[0;32m   1408\u001b[0m     mouseDown(button\u001b[38;5;241m=\u001b[39mbutton, logScreenshot\u001b[38;5;241m=\u001b[39m\u001b[38;5;28;01mFalse\u001b[39;00m, _pause\u001b[38;5;241m=\u001b[39m\u001b[38;5;28;01mFalse\u001b[39;00m)\n\u001b[1;32m-> 1409\u001b[0m _mouseMoveDrag(\u001b[38;5;124m\"\u001b[39m\u001b[38;5;124mdrag\u001b[39m\u001b[38;5;124m\"\u001b[39m, mousex, mousey, xOffset, yOffset, duration, tween, button)\n\u001b[0;32m   1410\u001b[0m \u001b[38;5;28;01mif\u001b[39;00m mouseDownUp:\n\u001b[0;32m   1411\u001b[0m     mouseUp(button\u001b[38;5;241m=\u001b[39mbutton, logScreenshot\u001b[38;5;241m=\u001b[39m\u001b[38;5;28;01mFalse\u001b[39;00m, _pause\u001b[38;5;241m=\u001b[39m\u001b[38;5;28;01mFalse\u001b[39;00m)\n",
      "File \u001b[1;32m~\\anaconda3\\Lib\\site-packages\\pyautogui\\__init__.py:1504\u001b[0m, in \u001b[0;36m_mouseMoveDrag\u001b[1;34m(moveOrDrag, x, y, xOffset, yOffset, duration, tween, button)\u001b[0m\n\u001b[0;32m   1500\u001b[0m \u001b[38;5;66;03m# Do a fail-safe check to see if the user moved the mouse to a fail-safe position, but not if the mouse cursor\u001b[39;00m\n\u001b[0;32m   1501\u001b[0m \u001b[38;5;66;03m# moved there as a result of this function. (Just because tweenX and tweenY aren't in a fail-safe position\u001b[39;00m\n\u001b[0;32m   1502\u001b[0m \u001b[38;5;66;03m# doesn't mean the user couldn't have moved the mouse cursor to a fail-safe position.)\u001b[39;00m\n\u001b[0;32m   1503\u001b[0m \u001b[38;5;28;01mif\u001b[39;00m (tweenX, tweenY) \u001b[38;5;129;01mnot\u001b[39;00m \u001b[38;5;129;01min\u001b[39;00m FAILSAFE_POINTS:\n\u001b[1;32m-> 1504\u001b[0m     failSafeCheck()\n\u001b[0;32m   1506\u001b[0m \u001b[38;5;28;01mif\u001b[39;00m moveOrDrag \u001b[38;5;241m==\u001b[39m \u001b[38;5;124m\"\u001b[39m\u001b[38;5;124mmove\u001b[39m\u001b[38;5;124m\"\u001b[39m:\n\u001b[0;32m   1507\u001b[0m     platformModule\u001b[38;5;241m.\u001b[39m_moveTo(tweenX, tweenY)\n",
      "File \u001b[1;32m~\\anaconda3\\Lib\\site-packages\\pyautogui\\__init__.py:1734\u001b[0m, in \u001b[0;36mfailSafeCheck\u001b[1;34m()\u001b[0m\n\u001b[0;32m   1732\u001b[0m \u001b[38;5;28;01mdef\u001b[39;00m \u001b[38;5;21mfailSafeCheck\u001b[39m():\n\u001b[0;32m   1733\u001b[0m     \u001b[38;5;28;01mif\u001b[39;00m FAILSAFE \u001b[38;5;129;01mand\u001b[39;00m \u001b[38;5;28mtuple\u001b[39m(position()) \u001b[38;5;129;01min\u001b[39;00m FAILSAFE_POINTS:\n\u001b[1;32m-> 1734\u001b[0m         \u001b[38;5;28;01mraise\u001b[39;00m FailSafeException(\n\u001b[0;32m   1735\u001b[0m             \u001b[38;5;124m\"\u001b[39m\u001b[38;5;124mPyAutoGUI fail-safe triggered from mouse moving to a corner of the screen. To disable this fail-safe, set pyautogui.FAILSAFE to False. DISABLING FAIL-SAFE IS NOT RECOMMENDED.\u001b[39m\u001b[38;5;124m\"\u001b[39m\n\u001b[0;32m   1736\u001b[0m         )\n",
      "\u001b[1;31mFailSafeException\u001b[0m: PyAutoGUI fail-safe triggered from mouse moving to a corner of the screen. To disable this fail-safe, set pyautogui.FAILSAFE to False. DISABLING FAIL-SAFE IS NOT RECOMMENDED."
     ]
    }
   ],
   "source": [
    "import pyautogui\n",
    "#opens paint \n",
    "time.sleep(1)\n",
    "pyautogui.press('win')\n",
    "time.sleep(1)\n",
    "pyautogui.write('paint')\n",
    "time.sleep(3)\n",
    "pyautogui.press('enter')\n",
    "time.sleep(5)\n",
    "\n",
    "pyautogui.moveTo(position[0],position[1])\n",
    "time.sleep(3)\n",
    "distance = 500\n",
    "while distance > 0:\n",
    "    pyautogui.dragRel(distance, 0, 1, button='left')  # moving across\n",
    "    distance = distance - 20\n",
    "    pyautogui.dragRel(0, distance, 1, button='left')  # moving opposite\n",
    "    pyautogui.dragRel(-distance, 0, 1, button='left')\n",
    "    distance = distance - 20\n",
    "    pyautogui.dragRel(0, -distance, 1, button='left')\n",
    "time.sleep(2)"
   ]
  },
  {
   "cell_type": "code",
   "execution_count": 317,
   "id": "14c9fed9-d844-4a29-aa4d-b831ec81a0e3",
   "metadata": {},
   "outputs": [],
   "source": [
    "size = 300\n",
    "pyautogui.moveTo(position[0],position[1])\n",
    "for _ in range(2):\n",
    "    pyautogui.dragRel(size, 0, duration=0.5)  # Move right\n",
    "    pyautogui.dragRel(0, size, duration=0.5)  # Move down\n",
    "    pyautogui.dragRel(-size, 0, duration=0.5) # Move left\n",
    "    pyautogui.dragRel(0, -size, duration=0.5) # Move up\n",
    "time.sleep(3)"
   ]
  },
  {
   "cell_type": "code",
   "execution_count": null,
   "id": "663dc742-4183-47e7-ae1f-6c8e79c44358",
   "metadata": {},
   "outputs": [],
   "source": [
    "\n",
    "# Fibonacci sequence sizes\n",
    "sizes = [5, 5, 10, 15, 25, 40, 65, 105, 170, 275]"
   ]
  },
  {
   "cell_type": "code",
   "execution_count": 321,
   "id": "6841f33a-6d74-4ef4-aa43-f10b1a9aacd1",
   "metadata": {},
   "outputs": [
    {
     "ename": "FailSafeException",
     "evalue": "PyAutoGUI fail-safe triggered from mouse moving to a corner of the screen. To disable this fail-safe, set pyautogui.FAILSAFE to False. DISABLING FAIL-SAFE IS NOT RECOMMENDED.",
     "output_type": "error",
     "traceback": [
      "\u001b[1;31m---------------------------------------------------------------------------\u001b[0m",
      "\u001b[1;31mFailSafeException\u001b[0m                         Traceback (most recent call last)",
      "Cell \u001b[1;32mIn[321], line 34\u001b[0m\n\u001b[0;32m     32\u001b[0m \u001b[38;5;28;01mfor\u001b[39;00m size \u001b[38;5;129;01min\u001b[39;00m sizes:\n\u001b[0;32m     33\u001b[0m     draw_square(size)\n\u001b[1;32m---> 34\u001b[0m     draw_quarter_circle(size)\n\u001b[0;32m     35\u001b[0m     pyautogui\u001b[38;5;241m.\u001b[39mmoveRel(size, \u001b[38;5;241m0\u001b[39m, duration\u001b[38;5;241m=\u001b[39m\u001b[38;5;241m0.5\u001b[39m)  \u001b[38;5;66;03m# Move to the next starting point\u001b[39;00m\n\u001b[0;32m     37\u001b[0m \u001b[38;5;66;03m# Finish\u001b[39;00m\n",
      "Cell \u001b[1;32mIn[321], line 24\u001b[0m, in \u001b[0;36mdraw_quarter_circle\u001b[1;34m(radius)\u001b[0m\n\u001b[0;32m     22\u001b[0m x \u001b[38;5;241m=\u001b[39m radius \u001b[38;5;241m*\u001b[39m math\u001b[38;5;241m.\u001b[39mcos(math\u001b[38;5;241m.\u001b[39mradians(i))\n\u001b[0;32m     23\u001b[0m y \u001b[38;5;241m=\u001b[39m radius \u001b[38;5;241m*\u001b[39m math\u001b[38;5;241m.\u001b[39msin(math\u001b[38;5;241m.\u001b[39mradians(i))\n\u001b[1;32m---> 24\u001b[0m pyautogui\u001b[38;5;241m.\u001b[39mdragRel(x, y, duration\u001b[38;5;241m=\u001b[39m\u001b[38;5;241m0.01\u001b[39m)\n",
      "File \u001b[1;32m~\\anaconda3\\Lib\\site-packages\\pyautogui\\__init__.py:594\u001b[0m, in \u001b[0;36m_genericPyAutoGUIChecks.<locals>.wrapper\u001b[1;34m(*args, **kwargs)\u001b[0m\n\u001b[0;32m    591\u001b[0m \u001b[38;5;129m@functools\u001b[39m\u001b[38;5;241m.\u001b[39mwraps(wrappedFunction)\n\u001b[0;32m    592\u001b[0m \u001b[38;5;28;01mdef\u001b[39;00m \u001b[38;5;21mwrapper\u001b[39m(\u001b[38;5;241m*\u001b[39margs, \u001b[38;5;241m*\u001b[39m\u001b[38;5;241m*\u001b[39mkwargs):\n\u001b[0;32m    593\u001b[0m     failSafeCheck()\n\u001b[1;32m--> 594\u001b[0m     returnVal \u001b[38;5;241m=\u001b[39m wrappedFunction(\u001b[38;5;241m*\u001b[39margs, \u001b[38;5;241m*\u001b[39m\u001b[38;5;241m*\u001b[39mkwargs)\n\u001b[0;32m    595\u001b[0m     _handlePause(kwargs\u001b[38;5;241m.\u001b[39mget(\u001b[38;5;124m\"\u001b[39m\u001b[38;5;124m_pause\u001b[39m\u001b[38;5;124m\"\u001b[39m, \u001b[38;5;28;01mTrue\u001b[39;00m))\n\u001b[0;32m    596\u001b[0m     \u001b[38;5;28;01mreturn\u001b[39;00m returnVal\n",
      "File \u001b[1;32m~\\anaconda3\\Lib\\site-packages\\pyautogui\\__init__.py:1409\u001b[0m, in \u001b[0;36mdragRel\u001b[1;34m(xOffset, yOffset, duration, tween, button, logScreenshot, _pause, mouseDownUp)\u001b[0m\n\u001b[0;32m   1407\u001b[0m \u001b[38;5;28;01mif\u001b[39;00m mouseDownUp:\n\u001b[0;32m   1408\u001b[0m     mouseDown(button\u001b[38;5;241m=\u001b[39mbutton, logScreenshot\u001b[38;5;241m=\u001b[39m\u001b[38;5;28;01mFalse\u001b[39;00m, _pause\u001b[38;5;241m=\u001b[39m\u001b[38;5;28;01mFalse\u001b[39;00m)\n\u001b[1;32m-> 1409\u001b[0m _mouseMoveDrag(\u001b[38;5;124m\"\u001b[39m\u001b[38;5;124mdrag\u001b[39m\u001b[38;5;124m\"\u001b[39m, mousex, mousey, xOffset, yOffset, duration, tween, button)\n\u001b[0;32m   1410\u001b[0m \u001b[38;5;28;01mif\u001b[39;00m mouseDownUp:\n\u001b[0;32m   1411\u001b[0m     mouseUp(button\u001b[38;5;241m=\u001b[39mbutton, logScreenshot\u001b[38;5;241m=\u001b[39m\u001b[38;5;28;01mFalse\u001b[39;00m, _pause\u001b[38;5;241m=\u001b[39m\u001b[38;5;28;01mFalse\u001b[39;00m)\n",
      "File \u001b[1;32m~\\anaconda3\\Lib\\site-packages\\pyautogui\\__init__.py:1514\u001b[0m, in \u001b[0;36m_mouseMoveDrag\u001b[1;34m(moveOrDrag, x, y, xOffset, yOffset, duration, tween, button)\u001b[0m\n\u001b[0;32m   1511\u001b[0m         \u001b[38;5;28;01mraise\u001b[39;00m \u001b[38;5;167;01mNotImplementedError\u001b[39;00m(\u001b[38;5;124m\"\u001b[39m\u001b[38;5;124mUnknown value of moveOrDrag: \u001b[39m\u001b[38;5;132;01m{0}\u001b[39;00m\u001b[38;5;124m\"\u001b[39m\u001b[38;5;241m.\u001b[39mformat(moveOrDrag))\n\u001b[0;32m   1513\u001b[0m \u001b[38;5;28;01mif\u001b[39;00m (tweenX, tweenY) \u001b[38;5;129;01mnot\u001b[39;00m \u001b[38;5;129;01min\u001b[39;00m FAILSAFE_POINTS:\n\u001b[1;32m-> 1514\u001b[0m     failSafeCheck()\n",
      "File \u001b[1;32m~\\anaconda3\\Lib\\site-packages\\pyautogui\\__init__.py:1734\u001b[0m, in \u001b[0;36mfailSafeCheck\u001b[1;34m()\u001b[0m\n\u001b[0;32m   1732\u001b[0m \u001b[38;5;28;01mdef\u001b[39;00m \u001b[38;5;21mfailSafeCheck\u001b[39m():\n\u001b[0;32m   1733\u001b[0m     \u001b[38;5;28;01mif\u001b[39;00m FAILSAFE \u001b[38;5;129;01mand\u001b[39;00m \u001b[38;5;28mtuple\u001b[39m(position()) \u001b[38;5;129;01min\u001b[39;00m FAILSAFE_POINTS:\n\u001b[1;32m-> 1734\u001b[0m         \u001b[38;5;28;01mraise\u001b[39;00m FailSafeException(\n\u001b[0;32m   1735\u001b[0m             \u001b[38;5;124m\"\u001b[39m\u001b[38;5;124mPyAutoGUI fail-safe triggered from mouse moving to a corner of the screen. To disable this fail-safe, set pyautogui.FAILSAFE to False. DISABLING FAIL-SAFE IS NOT RECOMMENDED.\u001b[39m\u001b[38;5;124m\"\u001b[39m\n\u001b[0;32m   1736\u001b[0m         )\n",
      "\u001b[1;31mFailSafeException\u001b[0m: PyAutoGUI fail-safe triggered from mouse moving to a corner of the screen. To disable this fail-safe, set pyautogui.FAILSAFE to False. DISABLING FAIL-SAFE IS NOT RECOMMENDED."
     ]
    }
   ],
   "source": [
    "\n",
    "pyautogui.moveTo(position[0],position[1])\n",
    "for _ in range(2):\n",
    "    pyautogui.dragRel(size, 0, duration=0.5)  # Move right\n",
    "    pyautogui.dragRel(0, size, duration=0.5)  # Move down\n",
    "    pyautogui.dragRel(-size, 0, duration=0.5) # Move left\n",
    "    pyautogui.dragRel(0, -size, duration=0.5) # Move up\n",
    "time.sleep(3)\n",
    "\n",
    "\n",
    "# Function to draw a square\n",
    "def draw_square(size):\n",
    "    for _ in range(2):\n",
    "        pyautogui.dragRel(size, 0, duration=0.5)  # Move right\n",
    "        pyautogui.dragRel(0, size, duration=0.5)  # Move down\n",
    "        pyautogui.dragRel(-size, 0, duration=0.5) # Move left\n",
    "        pyautogui.dragRel(0, -size, duration=0.5) # Move up\n",
    "time.sleep(3)\n",
    "\n",
    "# Function to draw a quarter circle\n",
    "def draw_quarter_circle(radius):\n",
    "    for i in range(90):\n",
    "        x = radius * math.cos(math.radians(i))\n",
    "        y = radius * math.sin(math.radians(i))\n",
    "        pyautogui.dragRel(x, y, duration=0.01)\n",
    "\n",
    "time.sleep(3)\n",
    "\n",
    "# Fibonacci sequence sizes\n",
    "#sizes = [5, 5, 10, 15, 25, 40, 65, 105, 170, 275]\n",
    "\n",
    "# Draw squares and quarter circles\n",
    "for size in sizes:\n",
    "    draw_square(size)\n",
    "    draw_quarter_circle(size)\n",
    "    pyautogui.moveRel(size, 0, duration=0.5)  # Move to the next starting point\n",
    "\n",
    "# Finish\n",
    "time.sleep(2)"
   ]
  },
  {
   "cell_type": "code",
   "execution_count": 47,
   "id": "6b9aea67-8629-40c1-878c-8909c7b7962a",
   "metadata": {},
   "outputs": [
    {
     "data": {
      "text/plain": [
       "Point(x=101, y=1057)"
      ]
     },
     "execution_count": 47,
     "metadata": {},
     "output_type": "execute_result"
    }
   ],
   "source": [
    "position = pyautogui.position\n",
    "position()"
   ]
  },
  {
   "cell_type": "markdown",
   "id": "544d3310-d9c8-4d02-89e4-e4db97e23d99",
   "metadata": {},
   "source": [
    "It may be useful to store some useful points of your screen as variables, so that they are easily recallable: "
   ]
  },
  {
   "cell_type": "code",
   "execution_count": 49,
   "id": "676dfefa-a69c-4560-b76b-45077d2c7db8",
   "metadata": {},
   "outputs": [
    {
     "data": {
      "text/plain": [
       "Point(x=105, y=1057)"
      ]
     },
     "execution_count": 49,
     "metadata": {},
     "output_type": "execute_result"
    }
   ],
   "source": [
    "search_bar_win = pyautogui.position()\n",
    "search_bar_win"
   ]
  },
  {
   "cell_type": "code",
   "execution_count": 71,
   "id": "191b6a43-b250-4f92-bd60-174ab94a19fe",
   "metadata": {},
   "outputs": [],
   "source": [
    "screen_center = pyautogui.position()"
   ]
  },
  {
   "cell_type": "code",
   "execution_count": 59,
   "id": "206133a1-3d44-44fc-9a55-2f02adace0d7",
   "metadata": {},
   "outputs": [],
   "source": [
    "time.sleep(1)\n",
    "pyautogui.moveTo(search_bar_win[0],search_bar_win[1])"
   ]
  },
  {
   "cell_type": "code",
   "execution_count": 73,
   "id": "581c48f3-c532-4028-944d-671279ab8684",
   "metadata": {},
   "outputs": [],
   "source": [
    "time.sleep(1)\n",
    "pyautogui.moveTo(search_bar_win[0],search_bar_win[1])\n",
    "pyautogui.leftClick()\n",
    "time.sleep(2)\n",
    "pyautogui.write('paint')\n",
    "time.sleep(3)\n",
    "pyautogui.press('enter')\n",
    "time.sleep(3)\n",
    "pyautogui.hotkey('win', 'up')\n",
    "time.sleep(6)\n",
    "\n",
    "pyautogui.moveTo(screen_center[0],screen_center[1])\n",
    "distance = 500\n",
    "while distance > 0:\n",
    "    pyautogui.dragRel(distance, 0, 1, button='left') #moving across\n",
    "    distance = distance - 20\n",
    "    pyautogui.dragRel(0, distance, 1, button = 'left') #moving opposite\n",
    "    pyautogui.dragRel(-distance, 0, 1, button = 'left') \n",
    "    distance = distance - 20 \n",
    "    pyautogui.dragRel(0, -distance, 1, button= 'left')\n",
    "time.sleep(2)\n"
   ]
  },
  {
   "cell_type": "code",
   "execution_count": 11,
   "id": "f222adc8-280c-4eb2-a931-f2aed349f33e",
   "metadata": {},
   "outputs": [],
   "source": [
    "\n",
    "# Start an application: Example: Paint\n",
    "time.sleep(1)\n",
    "pyautogui.press('win')\n",
    "time.sleep(1)\n",
    "pyautogui.write('paint')\n",
    "time.sleep(3)\n",
    "pyautogui.press('enter')\n",
    "time.sleep(3)\n",
    "pyautogui.hotkey('win', 'up')\n",
    "time.sleep(3)\n",
    "\n"
   ]
  },
  {
   "cell_type": "code",
   "execution_count": null,
   "id": "6bbe2f96-cff2-4048-b8d2-2a37728415c1",
   "metadata": {},
   "outputs": [],
   "source": [
    "#fail safe\n",
    "\n",
    "#position the mouse on the top left of the screen.\n"
   ]
  },
  {
   "cell_type": "code",
   "execution_count": 76,
   "id": "09dc09ac-bd72-46be-9156-e7ad586d40be",
   "metadata": {},
   "outputs": [
    {
     "name": "stdout",
     "output_type": "stream",
     "text": [
      "Point(x=422, y=539)\n"
     ]
    }
   ],
   "source": [
    "position = pyautogui.position()\n",
    "print(position)"
   ]
  },
  {
   "cell_type": "markdown",
   "id": "a397fd4f-c684-4541-ba0c-d5b6ffd9161a",
   "metadata": {},
   "source": [
    "###  Liking Videos on Tiktok\n",
    "Exploring the logics of pyautogui"
   ]
  },
  {
   "cell_type": "code",
   "execution_count": 78,
   "id": "035c90e3-1f85-4b4f-8639-974f52319f37",
   "metadata": {
    "scrolled": true
   },
   "outputs": [
    {
     "name": "stdout",
     "output_type": "stream",
     "text": [
      "done\n"
     ]
    }
   ],
   "source": [
    "# Tiktok Liker - example\n",
    "# may be used carefully or your account will be banned\n",
    "\n",
    "time.sleep(2)\n",
    "#range = number of tiktoks you want to like\n",
    "for i in range(4):\n",
    "    time.sleep(1)\n",
    "    pyautogui.moveTo(position[0],position[1])\n",
    "    time.sleep(1)\n",
    "    pyautogui.doubleClick()\n",
    "    time.sleep(1)\n",
    "    pyautogui.vscroll(-200)\n",
    "    time.sleep(1)\n",
    "    pyautogui.moveTo(position[0],position[1])\n",
    "    time.sleep(1)\n",
    "print('done')\n",
    "    "
   ]
  },
  {
   "cell_type": "code",
   "execution_count": 24,
   "id": "250ef79e-64e0-47a2-8254-5f8c642caea8",
   "metadata": {},
   "outputs": [
    {
     "name": "stdout",
     "output_type": "stream",
     "text": [
      "Point(x=312, y=283)\n"
     ]
    }
   ],
   "source": [
    "position = pyautogui.position()\n",
    "print(position)"
   ]
  },
  {
   "cell_type": "markdown",
   "id": "0a3fb566-c50e-477b-9bf3-eedf3f608e8d",
   "metadata": {},
   "source": [
    "## Login Window Example:\n"
   ]
  },
  {
   "cell_type": "code",
   "execution_count": null,
   "id": "c14b740f-6fd8-49d3-84bd-a5f142e10c71",
   "metadata": {},
   "outputs": [],
   "source": [
    "# Sample code for a login window using tkinter. Must be executed on VsCode\n",
    "\"\"\"\"\"\n",
    "\n",
    "import tkinter as tk\n",
    "from tkinter import messagebox\n",
    "\n",
    "# Function to handle the automation success window\n",
    "def show_automation_success():\n",
    "    # Create a new window\n",
    "    automation_window = tk.Toplevel(root)\n",
    "    automation_window.title(\"Automation Status\")\n",
    "    \n",
    "    # Set the size of the window\n",
    "    automation_window.geometry(\"300x100\")\n",
    "    \n",
    "    # Add a label to display the success message\n",
    "    tk.Label(automation_window, text=\"Automação executada com sucesso!\").pack(pady=20)\n",
    "    \n",
    "    # Add a button to close the window\n",
    "    tk.Button(automation_window, text=\"OK\", command=automation_window.destroy).pack(pady=10)\n",
    "\n",
    "# Function to handle login action\n",
    "def login():\n",
    "    username = entry_username.get()\n",
    "    password = entry_password.get()\n",
    "    \n",
    "    # Logic to validate the username and password\n",
    "    if username == \"user\" and password == \"pass\":\n",
    "        messagebox.showinfo(\"Login\", \"Login bem-sucedido!\")\n",
    "        show_automation_success()  # Open the success window after login\n",
    "    else:\n",
    "        messagebox.showerror(\"Login\", \"Nome de usuário ou senha incorretos.\")\n",
    "\n",
    "# Create the main window\n",
    "root = tk.Tk()\n",
    "root.title(\"Btime Service\")  # Add the window title\n",
    "\n",
    "# Set window size\n",
    "root.geometry(\"350x250\")  # Increased window size for better layout\n",
    "\n",
    "# Add a title label\n",
    "tk.Label(root, text=\"Btime Service\", font=(\"Arial\", 16, \"bold\")).pack(pady=10)\n",
    "\n",
    "# Username label and text entry box\n",
    "tk.Label(root, text=\"Username\").pack(pady=5)\n",
    "entry_username = tk.Entry(root)\n",
    "entry_username.pack(pady=5)\n",
    "\n",
    "# Password label and text entry box\n",
    "tk.Label(root, text=\"Password\").pack(pady=5)\n",
    "entry_password = tk.Entry(root, show='*')\n",
    "entry_password.pack(pady=5)\n",
    "\n",
    "# Larger Login button\n",
    "login_button = tk.Button(root, text=\"Login\", command=login, font=(\"Arial\", 14), width=20, height=2)\n",
    "login_button.pack(pady=20)\n",
    "\n",
    "# Run the window\n",
    "root.mainloop()\n",
    "\"\"\"\"\""
   ]
  },
  {
   "cell_type": "code",
   "execution_count": 40,
   "id": "ea21475b-44cf-4bf0-b230-73406bd77f41",
   "metadata": {},
   "outputs": [],
   "source": [
    "import pyautogui\n",
    "import time\n",
    "\n",
    "# Wait for the login window to appear\n",
    "time.sleep(2)  # Give yourself time to manually open the window\n",
    "\n",
    "pyautogui.moveTo(position[0],position[1],1) # moves to x,y position in n seconds\n",
    "time.sleep(1)\n",
    "pyautogui.leftClick()\n",
    "\n",
    "\n",
    "# Automating typing the username and password\n",
    "pyautogui.write('user', interval=0.1)  # Simulate typing the username\n",
    "pyautogui.press('tab')  # Move to the password field\n",
    "pyautogui.write('pass', interval=0.1)  # Simulate typing the password\n",
    "time.sleep(1)\n",
    "pyautogui.press('tab')  # Move to the password field\n",
    "time.sleep(3)\n",
    "pyautogui.hotkey('enter')\n",
    "\n",
    "\n",
    "\n",
    "\n",
    "\n"
   ]
  }
 ],
 "metadata": {
  "kernelspec": {
   "display_name": "Python 3 (ipykernel)",
   "language": "python",
   "name": "python3"
  },
  "language_info": {
   "codemirror_mode": {
    "name": "ipython",
    "version": 3
   },
   "file_extension": ".py",
   "mimetype": "text/x-python",
   "name": "python",
   "nbconvert_exporter": "python",
   "pygments_lexer": "ipython3",
   "version": "3.11.5"
  }
 },
 "nbformat": 4,
 "nbformat_minor": 5
}
